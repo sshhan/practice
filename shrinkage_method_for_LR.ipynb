{
 "cells": [
  {
   "cell_type": "markdown",
   "metadata": {},
   "source": [
    "# 2.收缩方法(shrink method)\n",
    " 又称正则化（regularization)"
   ]
  },
  {
   "cell_type": "markdown",
   "metadata": {},
   "source": [
    "## 2.1 背景简介：\n",
    "如果数据的特征比样本点要多，即($n<p$)时，输入数据的矩阵不是满秩矩阵。就不能再使用之前的线性回归方法对参数进行求解。$X^TX$矩阵奇异，逆矩阵不存在。为了解决这一问题，统计学家引入了一些缩减方法，如：岭回归，Lasso，LAR，PCA回归以及子集选择等。本节将逐一介绍。  "
   ]
  },
  {
   "cell_type": "markdown",
   "metadata": {},
   "source": [
    "## 2.2 岭回归(Ridge regression)\n",
    "岭回归是一种专用于共线性数据分析的有偏估计回归方法，实际上是一种改良的最小二乘估计法，通过放弃最小二乘法的无偏性，以损失部分信息，降低精度为代价获得回归系数更符合实际，更可靠的回归方法，对病态数据的拟合要强于最小二乘法。\n",
    "### 思想：  \n",
    "简单说来，岭回归就说在矩阵$X^TX$上加一个$\\lambda I$从而使得矩阵非奇异，进而能对$X^TX+\\lambda I$求逆，其中矩阵$I$是一个$p\\times p$维的单位矩阵，对角线上元素全为1，其他元素全为0.而$\\lambda$是一个用户定义的数值。  \n",
    "在这种情况下，回归系数的计算公式将变成：  \n",
    "$$\\hat{\\theta}=(X^TX+\\lambda I)^{-1}X^Ty\\qquad (*)$$\n"
   ]
  },
  {
   "cell_type": "markdown",
   "metadata": {},
   "source": [
    "### 理论推导：\n",
    "岭回归通过对系数大小施加惩罚，在平方误差的基础上添加了正则项，解决了普通最小二乘法的一些问题。岭系数最小化惩罚残差平方和：  \n",
    "$$ \\min\\limits_{\\theta}\\dfrac{1}{2}\\lVert X\\theta-y \\rVert _2^2+\\dfrac{1}{2}\\lambda \\lVert \\theta \\rVert _2^2$$\n",
    "这里，$\\lambda\\ge0$是控制收缩量的复杂参数:$\\lambda$值越大，收缩量越大，从而系数对于共线性更加稳健。\n",
    "\n",
    "回归系数的计算公式也可由损失函数最小化求得。数学推导如下：\n",
    "$$\\dfrac{1}{2}\\lVert X\\theta-y \\rVert _2^2+\\dfrac{1}{2}\\lambda \\lVert \\theta \\rVert _2^2=\n",
    "\\dfrac{1}{2}\\theta^TX^TX\\theta-\\theta^TX^Ty+\\dfrac{1}{2}y^Ty+\\dfrac{\\lambda}{2}\\theta^T\\theta$$\n",
    "对函数求导，得$X^TX\\theta-X^Ty+\\lambda\\theta$，令其等于0，得到参数的估计值与(*)式结果相同。"
   ]
  },
  {
   "cell_type": "markdown",
   "metadata": {},
   "source": [
    "#### 思考：岭回归中的岭指的是什么？  \n",
    "岭回归使用了单位矩阵乘以常量$\\lambda$，观察其中的单位矩阵，可以看到1贯穿整个对角线，其余元素全为0.形象地，在0构成的平面上有一条1组成的'岭'，这就是岭的由来。\n",
    "#### 注意：\n",
    "通常岭回归方程的R平方值会稍低于普通回归分析，但回归系数的显著性往往明显高于普通回归，在存在共线性问题和病态数据偏多的研究中有较大的实用价值。"
   ]
  },
  {
   "cell_type": "code",
   "execution_count": null,
   "metadata": {
    "collapsed": true
   },
   "outputs": [],
   "source": []
  }
 ],
 "metadata": {
  "kernelspec": {
   "display_name": "Python 3",
   "language": "python",
   "name": "python3"
  },
  "language_info": {
   "codemirror_mode": {
    "name": "ipython",
    "version": 3
   },
   "file_extension": ".py",
   "mimetype": "text/x-python",
   "name": "python",
   "nbconvert_exporter": "python",
   "pygments_lexer": "ipython3",
   "version": "3.5.3"
  }
 },
 "nbformat": 4,
 "nbformat_minor": 2
}
