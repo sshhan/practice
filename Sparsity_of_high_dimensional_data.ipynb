{
 "cells": [
  {
   "cell_type": "markdown",
   "metadata": {},
   "source": [
    "## 稀疏性理解\n",
    "现在的机器学习问题中，具有非常高维度的数据随处可见。高维度带来的问题不止在于计算量上。在许多生物相关的问题中，数据的维度非常高，但是由于收集数据需要昂贵的实验，因此可用的训练数据相当少，这样的问题通常称为'small n,large p problem'--我们一般用n来表示数据点的个数，p来表示变量的个数，即数据维度。当p>>n的时候，不做任何其他假设或者限制的话，学习问题基本上是没法进行的。"
   ]
  },
  {
   "cell_type": "code",
   "execution_count": null,
   "metadata": {
    "collapsed": true
   },
   "outputs": [],
   "source": []
  }
 ],
 "metadata": {
  "kernelspec": {
   "display_name": "Python 3",
   "language": "python",
   "name": "python3"
  },
  "language_info": {
   "codemirror_mode": {
    "name": "ipython",
    "version": 3
   },
   "file_extension": ".py",
   "mimetype": "text/x-python",
   "name": "python",
   "nbconvert_exporter": "python",
   "pygments_lexer": "ipython3",
   "version": "3.5.3"
  }
 },
 "nbformat": 4,
 "nbformat_minor": 2
}
