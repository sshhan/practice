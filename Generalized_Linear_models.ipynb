{
 "cells": [
  {
   "cell_type": "markdown",
   "metadata": {},
   "source": [
    "# 1.监督学习\n",
    "## 1.1 广义线性模型"
   ]
  },
  {
   "cell_type": "markdown",
   "metadata": {},
   "source": [
    "下面是一组用于回归的方法，其中目标值将是输入变量的线性组合。在数学概念中，如果$\\hat{y}$是预测值,  \n",
    "$$\\hat{y}(\\omega,x)=\\omega_0+\\omega_1x_1+\\cdots+\\omega_nx_n$$\n",
    "在程序模块中，我们对于系数向量$\\omega=(\\omega_1,\\cdots,\\omega_p)$记作 $coef\\_$,截距项$\\omega_0$记作 $intercept\\_$.  \n",
    "若用广义线性模型进行分类，见logistic回归。"
   ]
  },
  {
   "cell_type": "markdown",
   "metadata": {},
   "source": [
    "### 1.1.1 普通最小二乘\n",
    "线性回归最小化数据中观察到的响应和通过线性逼近预测的响应之间的残差平方和来拟合系数为$\\omega=(\\omega_1,\\cdots,\\omega_p)$的线性模型。从数学上来说，它解决了形式上的问题：  \n",
    "$$ \\min\\limits_{\\omega}\\lVert X\\omega - y \\rVert_2^2$$\n",
    "线性回归对数组x，y使用fit方法和存储线性模型的系数向量在coef_成员中："
   ]
  },
  {
   "cell_type": "code",
   "execution_count": 1,
   "metadata": {},
   "outputs": [
    {
     "name": "stdout",
     "output_type": "stream",
     "text": [
      "[ 0.5  0.5]\n"
     ]
    }
   ],
   "source": [
    "from sklearn import linear_model\n",
    "reg=linear_model.LinearRegression()#创建回归函数\n",
    "reg.fit([[0,0],[1,1],[2,2]],[0,1,2])#拟合模型\n",
    "print(reg.coef_) #输出系数向量"
   ]
  },
  {
   "cell_type": "markdown",
   "metadata": {},
   "source": [
    "然而，普通最小二乘的系数估计依赖于模型项的独立性。当各项具有相关性且设计矩阵x的列具有近似线性相关时，设计矩阵接近于奇异，因此，最小二乘估计变得对所观察到的响应中的随机误差高度敏感，产生大的方差。这种情况可能出现多重共线性，例如，没有实验设计而进行数据集收集。"
   ]
  },
  {
   "cell_type": "markdown",
   "metadata": {},
   "source": [
    "## Linear Regression Example\n",
    "本例仅使用糖尿病数据集的第一个特征，以说明这种回归技术的二维图。在图中可以看到直线，说明线性回归如何绘制一条直线，使真实和预测的数据之间残差平方最小。  \n",
    "除此之外还计算了系数、残差平方和和方差得分。"
   ]
  },
  {
   "cell_type": "code",
   "execution_count": 27,
   "metadata": {
    "collapsed": true
   },
   "outputs": [],
   "source": [
    "%matplotlib inline"
   ]
  },
  {
   "cell_type": "code",
   "execution_count": 42,
   "metadata": {},
   "outputs": [
    {
     "name": "stdout",
     "output_type": "stream",
     "text": [
      "Automatically created module for IPython interactive environment\n",
      "系数为: 938.238 常数项为:152.92\n",
      "均方差为:2548.072\n",
      "方差分数为:0.47\n"
     ]
    },
    {
     "data": {
      "text/plain": [
       "<function matplotlib.pyplot.show>"
      ]
     },
     "execution_count": 42,
     "metadata": {},
     "output_type": "execute_result"
    },
    {
     "data": {
      "image/png": "[encoded data removed]",
      "text/plain": [
       "<matplotlib.figure.Figure at 0x11a698710>"
      ]
     },
     "metadata": {},
     "output_type": "display_data"
    }
   ],
   "source": [
    "print(__doc__)\n",
    "\n",
    "\n",
    "# Code source: Jaques Grobler\n",
    "# License: BSD 3 clause\n",
    "\n",
    "import matplotlib.pyplot as plt\n",
    "import numpy as np\n",
    "from sklearn import datasets, linear_model\n",
    "from sklearn.metrics import mean_squared_error,r2_score\n",
    "\n",
    "# Load the diabetes dataset\n",
    "diabetes=datasets.load_diabetes()\n",
    "# use only one feature\n",
    "#newaxis的功能是插入新维度，在行或列上, 2指的是第三列数据\n",
    "diabetes_X=diabetes.data[:, np.newaxis, 2]\n",
    "# split the data into training/testing sets\n",
    "diabetes_X_train=diabetes_X[:-20] #除去后20个的值\n",
    "diabetes_X_test=diabetes_X[-20:] #后20个的数值\n",
    "\n",
    "# split the targets into training/testing data\n",
    "diabetes_y_train=diabetes.target[:-20]\n",
    "diabetes_y_test=diabetes.target[-20:]\n",
    "#create linear regression object\n",
    "regr=linear_model.LinearRegression()\n",
    "regr.fit(diabetes_X_train,diabetes_y_train)\n",
    "# Make predictions using testing set\n",
    "diabetes_y_pred=regr.predict(diabetes_X_test)\n",
    "\n",
    "#coefficients\n",
    "print(\"系数为: %.3f\"% regr.coef_,'常数项为:%.2f'%regr.intercept_)\n",
    "print('均方差为:%.3f'% mean_squared_error(diabetes_y_test,diabetes_y_pred))\n",
    "print('方差分数为:%.2f'% r2_score(diabetes_y_test,diabetes_y_pred))\n",
    "\n",
    "# plot outputs\n",
    "plt.scatter(diabetes_X_test,diabetes_y_test, color='black')\n",
    "plt.plot(diabetes_X_test,diabetes_y_pred,color='blue',linewidth=2)\n",
    "\n",
    "plt.xticks(()) #设置坐标刻度\n",
    "plt.yticks(())\n",
    "\n",
    "plt.show"
   ]
  },
  {
   "cell_type": "code",
   "execution_count": null,
   "metadata": {
    "collapsed": true
   },
   "outputs": [],
   "source": []
  }
 ],
 "metadata": {
  "kernelspec": {
   "display_name": "Python 3",
   "language": "python",
   "name": "python3"
  },
  "language_info": {
   "codemirror_mode": {
    "name": "ipython",
    "version": 3
   },
   "file_extension": ".py",
   "mimetype": "text/x-python",
   "name": "python",
   "nbconvert_exporter": "python",
   "pygments_lexer": "ipython3",
   "version": "3.5.3"
  }
 },
 "nbformat": 4,
 "nbformat_minor": 2
}
