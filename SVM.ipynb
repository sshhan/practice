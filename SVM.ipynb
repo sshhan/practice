{
 "cells": [
  {
   "cell_type": "markdown",
   "metadata": {},
   "source": [
    "# SVM 支持向量机\n",
    "支持向量机(SVMs)是用于分类，回归，和异常值检测的一系列监督学习方法的集合。  \n",
    "优点：  \n",
    "1.在高维空间上有效；  \n",
    "2.在p>n(也就是特征数目-维数大于样本数)的情形下仍然有效；  \n",
    "3.在决策函数上使用训练数据点的一个子集(称为支撑向量), 空间占用少；  \n",
    "4.Versatile(万能性):决策函数可以使用不同的核函数(kernel function)。  \n",
    "缺点：  \n",
    "1.如果特征数大于样本数，为避免过度拟合需要选择合适的核函数和正则项；  \n",
    "2.SVMs并不直接提供概率估计，计算使用五折交叉验证。"
   ]
  },
  {
   "cell_type": "code",
   "execution_count": null,
   "metadata": {
    "collapsed": true
   },
   "outputs": [],
   "source": []
  }
 ],
 "metadata": {
  "kernelspec": {
   "display_name": "Python 3",
   "language": "python",
   "name": "python3"
  },
  "language_info": {
   "codemirror_mode": {
    "name": "ipython",
    "version": 3
   },
   "file_extension": ".py",
   "mimetype": "text/x-python",
   "name": "python",
   "nbconvert_exporter": "python",
   "pygments_lexer": "ipython3",
   "version": "3.5.3"
  }
 },
 "nbformat": 4,
 "nbformat_minor": 2
}
