{
 "cells": [
  {
   "cell_type": "markdown",
   "metadata": {},
   "source": [
    "# 1.广义线性模型"
   ]
  },
  {
   "cell_type": "markdown",
   "metadata": {},
   "source": [
    "### 1.1 普通最小二乘\n",
    "线性回归最小化数据中观察到的响应和通过线性逼近预测的响应之间的残差平方和来拟合系数为$\\omega=(\\omega_1,\\cdots,\\omega_p)$的线性模型。从数学上来说，它解决了形式上的问题：  \n",
    "$$ \\min\\limits_{\\omega}\\lVert X\\omega - y \\rVert_2^2$$\n",
    "数学推导：\n",
    "\\begin{align*}\n",
    "\\lVert X\\omega - y \\rVert_2^2&=(X\\omega-y)^T(X\\omega-y)\\\\\n",
    "&=(\\omega^TX^T-y^T)(X\\omega-y)\\\\\n",
    "&=\\omega^TX^TX\\omega-2\\omega^TX^Ty+y^Ty\n",
    "\\end{align*}\n",
    "对$\\omega$求导，得$X^TX\\omega-X^Ty$,令其等于0，可以得到系数向量$\\omega$的估计值，如下：  \n",
    "$$\\hat{\\omega}=(X^TX)^{-1}X^Ty$$\n",
    "上述公式包含矩阵$\\ X^TX$的逆，因此这个估计只在该逆矩阵存在的情况下适用。    \n"
   ]
  },
  {
   "cell_type": "code",
   "execution_count": 54,
   "metadata": {
    "collapsed": true
   },
   "outputs": [],
   "source": [
    "import numpy as np\n",
    "\n",
    "def ols_fit(X,y):\n",
    "    Xmat=np.mat(X);ymat=np.mat(y).T\n",
    "    xTx=Xmat.T*Xmat\n",
    "    if np.linalg.det(xTx) == 0:\n",
    "        print('This matrix is singular')\n",
    "        return\n",
    "    W=xTx.I*(Xmat.T*ymat)\n",
    "    return W"
   ]
  },
  {
   "cell_type": "markdown",
   "metadata": {},
   "source": [
    "### 注意：\n",
    "普通最小二乘的系数估计依赖于模型项的独立性。当各项具有相关性且设计矩阵x的列具有近似线性相关时，设计矩阵接近于奇异，因此，最小二乘估计变得对所观察到的响应中的随机误差高度敏感，产生大的方差。这种情况可能出现多重共线性。以下将说明这种情况。"
   ]
  },
  {
   "cell_type": "markdown",
   "metadata": {},
   "source": [
    "当解集$\\omega$对X,y的值十分敏感时，那么这样的方程组就是病态的。X称为病态矩阵。仅仅是在X上和y上进行了微小变动，得出的系数值就差异巨大。如下例："
   ]
  },
  {
   "cell_type": "code",
   "execution_count": 62,
   "metadata": {},
   "outputs": [
    {
     "name": "stdout",
     "output_type": "stream",
     "text": [
      "This matrix is singular\n",
      "w1 is :\n",
      " [[ 1.]\n",
      " [ 0.]]\n",
      "w2 is :\n",
      " [[ 0.]\n",
      " [ 1.]]\n",
      "w3 is :\n",
      " [[ 0.]\n",
      " [ 1.]]\n"
     ]
    }
   ],
   "source": [
    "X=[[0,0],[1,1],[2,2]]\n",
    "y=[0,1,2]\n",
    "w1=ols_fit(X,y)\n",
    "X1=[[0,0],[1,1.1],[2,2]]\n",
    "y1=[0,1,2]\n",
    "w1=ols_fit(X1,y1)\n",
    "print('w1 is :\\n',w1)\n",
    "X2=[[0,0],[1,1],[2.1,2]]\n",
    "y2=[0,1,2]\n",
    "w2=ols_fit(X2,y2)\n",
    "print('w2 is :\\n',w2)\n",
    "X3=[[0,0],[1,1.1],[2,2]]\n",
    "y3=[0,1.1,2]\n",
    "w3=ols_fit(X3,y3)\n",
    "print('w3 is :\\n',w3)"
   ]
  },
  {
   "cell_type": "markdown",
   "metadata": {},
   "source": [
    "## 梯度下降算法解决这种问题"
   ]
  },
  {
   "cell_type": "markdown",
   "metadata": {},
   "source": [
    "## 1.2 局部加权线性回归\n",
    "线性回归的一个问题是有可能出现欠拟合现象，因为它求的是具有最小均方误差的无偏估计。如果模型"
   ]
  },
  {
   "cell_type": "markdown",
   "metadata": {},
   "source": [
    "## 衡量效果 方差分数\n",
    "## 优缺点 \n",
    "优点：结果易于理解，计算不复杂  \n",
    "缺点：对非线性数据拟合不好  \n",
    "适用数据类型：数值型和标称型  "
   ]
  },
  {
   "cell_type": "markdown",
   "metadata": {},
   "source": [
    "## 之后要介绍学习曲线的东西\n",
    "测试集跟训练集的学习曲线的接近程度   \n",
    "解释欠拟合，过拟合"
   ]
  },
  {
   "cell_type": "code",
   "execution_count": null,
   "metadata": {
    "collapsed": true
   },
   "outputs": [],
   "source": []
  }
 ],
 "metadata": {
  "kernelspec": {
   "display_name": "Python 3",
   "language": "python",
   "name": "python3"
  },
  "language_info": {
   "codemirror_mode": {
    "name": "ipython",
    "version": 3
   },
   "file_extension": ".py",
   "mimetype": "text/x-python",
   "name": "python",
   "nbconvert_exporter": "python",
   "pygments_lexer": "ipython3",
   "version": "3.5.3"
  }
 },
 "nbformat": 4,
 "nbformat_minor": 2
}
