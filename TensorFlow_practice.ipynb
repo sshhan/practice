{
 "cells": [
  {
   "cell_type": "code",
   "execution_count": 2,
   "metadata": {
    "collapsed": true
   },
   "outputs": [],
   "source": [
    "import tensorflow as tf"
   ]
  },
  {
   "cell_type": "code",
   "execution_count": 3,
   "metadata": {},
   "outputs": [
    {
     "name": "stdout",
     "output_type": "stream",
     "text": [
      "b'Hello World!'\n"
     ]
    }
   ],
   "source": [
    "hello_constant = tf.constant('Hello World!')\n",
    "with tf.Session() as sess:\n",
    "    output = sess.run(hello_constant)\n",
    "    print(output)"
   ]
  },
  {
   "cell_type": "markdown",
   "metadata": {},
   "source": [
    "## Tensor\n",
    "在Tensorflow 中，数据不是以整数、浮点数或者字符串形式存储的。这些值被封装在一个叫做tensor的对象中。在hello_constant = tf.constant('Hello World!')代码中，hello_constant是一个0维度的字符串tensor,tensor还有很多不同大小："
   ]
  },
  {
   "cell_type": "code",
   "execution_count": 4,
   "metadata": {
    "collapsed": true
   },
   "outputs": [],
   "source": [
    "A = tf.constant(12334)"
   ]
  },
  {
   "cell_type": "code",
   "execution_count": 5,
   "metadata": {
    "collapsed": true
   },
   "outputs": [],
   "source": [
    "B = tf.constant([123,456,789])"
   ]
  },
  {
   "cell_type": "markdown",
   "metadata": {},
   "source": [
    "tf.constant是经常使用的TensorFlow运算之一。tf.constant()返回的tensor是一个常量tensor,因为这个tensor的值不会变。\n",
    "## Session\n",
    "TensorFlow的api构建在computational graph的概念上，它是一种对数学运算过程进行可视化的方法。一个'TensorFlow Session'是用来运行图的环境。这个session负责匹配GPU(s)和(或)CPU(s),包括远程计算机的运算。使用方法："
   ]
  },
  {
   "cell_type": "code",
   "execution_count": 6,
   "metadata": {
    "collapsed": true
   },
   "outputs": [],
   "source": [
    "with tf.Session() as sess:\n",
    "    output = sess.run(hello_constant)"
   ]
  },
  {
   "cell_type": "markdown",
   "metadata": {},
   "source": [
    "这段代码用tf.Session创建了一个sess的Session实例。然后，sess.run()函数对tensor求值，并返回结果。 \n",
    "## 输入\n",
    "如果你想使用一个非常量(non-constant)，这就是tf.placeholder()和feed_dict派上用场的时候了。\n",
    "### tf.placeholder()\n",
    "很遗憾，你不能把数据集赋值给x再将它传给TensorFlow.因为之后你会想要你的TensorFlow模型对不同的数据集采用不同的参数。你需要的是tf.placehoder()!  \n",
    "数据经过tf.session.run()函数得到的值，由tf.placeholder()返回成一个tensor,这样你可以在session运行之前，设置输入  \n",
    "### Session的feed_dict"
   ]
  },
  {
   "cell_type": "code",
   "execution_count": 7,
   "metadata": {
    "collapsed": true
   },
   "outputs": [],
   "source": [
    "x = tf.placeholder(tf.string)\n",
    "with tf.Session() as sess:\n",
    "    output = sess.run(x, feed_dict = {x: 'Hello World'})"
   ]
  },
  {
   "cell_type": "markdown",
   "metadata": {},
   "source": [
    "用tf.session.run()里的feed_dict参数，设置占位tensor.上面的例子显示tensor x被设置成字符串\"Hello, world\".如下所示，也可以用feed_dict设置多个tensor."
   ]
  },
  {
   "cell_type": "code",
   "execution_count": 8,
   "metadata": {},
   "outputs": [],
   "source": [
    "x = tf.placeholder(tf.string)\n",
    "y = tf.placeholder(tf.int32)\n",
    "z = tf.placeholder(tf.float32)\n",
    "with tf.Session() as sess:\n",
    "    output = sess.run(x, feed_dict = {x: 'Test String', y: 123, z: 45.67})"
   ]
  },
  {
   "cell_type": "markdown",
   "metadata": {},
   "source": [
    "## 注意：  \n",
    "如果传人feed_dict的数据与tensor类型不符，就无法被正确处理，你会得到“ValueError: invalid literal for...”。"
   ]
  },
  {
   "cell_type": "markdown",
   "metadata": {},
   "source": [
    "## TensorFlow数学\n",
    "获取输入很棒，但是现在你需要使用它。你将使用每个人都懂的基础数学运算，加减乘除，来处理Tensor.\n",
    "### 加法"
   ]
  },
  {
   "cell_type": "code",
   "execution_count": 9,
   "metadata": {},
   "outputs": [],
   "source": [
    "x = tf.add(5,2)\n",
    "with tf.Session() as sess:\n",
    "    output = sess.run(x)\n",
    "    print(output)"
   ]
  },
  {
   "cell_type": "markdown",
   "metadata": {},
   "source": [
    "从加法开始，tf.add()函数如你所想，它传入两个数字、两个tensor、或数字和tensor各一个，以tensor的形式返回它们的和。\n",
    "### 减法和乘法"
   ]
  },
  {
   "cell_type": "code",
   "execution_count": 13,
   "metadata": {},
   "outputs": [],
   "source": [
    "y = tf.subtract(10, 4)\n",
    "z = tf.multiply(2, 5)"
   ]
  },
  {
   "cell_type": "markdown",
   "metadata": {},
   "source": [
    "y tensor求值结果是 6，因为10 - 4 = 6。z tensor求值结果是10，因为2*5 = 10."
   ]
  },
  {
   "cell_type": "markdown",
   "metadata": {},
   "source": [
    "### 类型转换  \n",
    "为了让特定运算能运行，有时对类型进行转换。例如，你尝试以下代码，会报错：  \n",
    "**tf.subtract(tf.constant(2.0),tf.constant(1))**  \n",
    "这是因为常量1是整数，但是常量2.0是浮点数，subtract需要它们的类型匹配。  \n",
    "在这种情况下，你可以确保数据都是同一类型,或者强制转换一个值为另一个类型。这里，我们可以把2.0转换成整数再相减，这样就能得出正确的结果："
   ]
  },
  {
   "cell_type": "code",
   "execution_count": 15,
   "metadata": {},
   "outputs": [
    {
     "data": {
      "text/plain": [
       "<tf.Tensor 'Sub_2:0' shape=() dtype=int32>"
      ]
     },
     "execution_count": 15,
     "metadata": {},
     "output_type": "execute_result"
    }
   ],
   "source": [
    "tf.subtract(tf.cast(tf.constant(2.0), tf.int32), tf.constant(1))"
   ]
  },
  {
   "cell_type": "markdown",
   "metadata": {},
   "source": [
    "### 小结：  \n",
    "通过上面的学习，我们完成了：  \n",
    "- 在tf.Session里面进行运算。\n",
    "- 通过tf.constant()创建常量tensor  \n",
    "- 用tf.placeholder()和feed_dict得到输入  \n",
    "- 应用tf.add(), tf.subtract(), tf.multiply()和tf.divide()函数进行数学运算。\n",
    "- 学习如何使用tf.cast()进行类型转换。"
   ]
  }
 ],
 "metadata": {
  "kernelspec": {
   "display_name": "Python [conda env:tflearn]",
   "language": "python",
   "name": "conda-env-tflearn-py"
  },
  "language_info": {
   "codemirror_mode": {
    "name": "ipython",
    "version": 3
   },
   "file_extension": ".py",
   "mimetype": "text/x-python",
   "name": "python",
   "nbconvert_exporter": "python",
   "pygments_lexer": "ipython3",
   "version": "3.5.4"
  }
 },
 "nbformat": 4,
 "nbformat_minor": 2
}
