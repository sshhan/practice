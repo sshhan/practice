{
 "cells": [
  {
   "cell_type": "markdown",
   "metadata": {},
   "source": [
    "# 机器学习中的LMS算法($\\delta$规则)\n",
    "BP算法实质是LMS(Least Mean Square)算法的推广。LMS试图使网络的均方误差最小化，可用于神经元激活函数可微的感知机学习；将LMS算法推广到由非线性可为神经元组成的多层前馈网络就得到BP算法，因此BP算法亦称广义$\\delta$规则。  \n",
    "因此，在学习BP算法之前，我们有必要学习LMS算法。\n",
    "## 1.简介\n",
    "LMS亦称Widrow-Hoff规则或者$\\delta$规则。  \n",
    "在机器学习，$\\delta$规则是一种梯度下降学习规则-用于在一个单层的神经网络中更新输入的权重到人工神经元。这是更一般的反向传播算法的特例。"
   ]
  },
  {
   "cell_type": "markdown",
   "metadata": {},
   "source": [
    "假设激活函数为$g(x)$,对于神经元j的第i个权重$w_{ji}$在$\\delta$规则下被定义为：    \n",
    "\n",
    "$$\\Delta w_{ji}=\\alpha(y_j-\\hat{y}_j)g'(h_j)x_i$$  \n",
    "这里,\n",
    "> - $\\alpha$是常量，称为学习速率；  \n",
    " $g(x)$是神经元激活函数；  \n",
    " $y_j$是目标输出；  \n",
    " $h_j$是神经元j的输入值的加权和,$h_j=\\sum_i x_iw_{ji}$;    \n",
    " $\\hat{y}_j$是实际输出,$\\hat{y}_j=g(h_j)$;  \n",
    " $x_i$是第i个输入值\n",
    "  \n",
    "对于具有线性激活函数的神经元，$\\delta$规则通常以简化形式陈述:   \n",
    "\n",
    "$$\\Delta w_{ji}=\\alpha(y_j-\\hat{y}_j)x_i$$   \n",
    "- 虽然德尔塔规则类似于感知器的更新规则，但推导是不同的。感知器使用阶跃函数(Heaviside step function)作为激活函数这意味着$g'(x)$在0点处不存在，在其他地方处处为0，这使得不可能直接应用$\\delta$规则。"
   ]
  },
  {
   "cell_type": "markdown",
   "metadata": {},
   "source": [
    "## 2. $\\delta$规则的推导。\n",
    "$\\delta$规则是通过尝试通过梯度下降来最小化神经网络的输出的误差来导出的。一个神经网络的输出误差由下式度量：  \n",
    "$$E=\\dfrac{1}{2}\\sum_j(y_j-\\hat{y}_j)^2$$  \n",
    "最小化误差：我们计算误差函数相对于每个权重的偏导数。这个导数计算如下：  \n",
    "$$\\dfrac{\\partial E}{\\partial w_{ji}}=-(y_j-\\hat{y}_j)g'(h_j)x_i$$  \n",
    "如上所述，梯度下降告诉我们，每个权重的变化应该与梯度的变化成比例。  \n",
    "选择一个比例常数$\\alpha$并消除负号，使我们能够在梯度的负方向上移动权重从而最小化误差，目标方程如下：  \n",
    "$$\\Delta w_{ji}=\\alpha(y_j-\\hat{y}_j)g'(h_j)x_i$$  \n",
    "## 3. 应用\n",
    "对于存在隐藏层的多层感知器，必须使用更复杂的算法，如反向传播。如果函数是非线性的且可微分的，则可以使用诸如$\\delta$规则的方法。  \n",
    "当多个感知器结合在人工神经网络中时，每个输出神经元独立于所有其他神经元运行; 因此，学习每个输出可以被孤立地考虑。"
   ]
  },
  {
   "cell_type": "code",
   "execution_count": null,
   "metadata": {
    "collapsed": true
   },
   "outputs": [],
   "source": []
  }
 ],
 "metadata": {
  "kernelspec": {
   "display_name": "Python 3",
   "language": "python",
   "name": "python3"
  },
  "language_info": {
   "codemirror_mode": {
    "name": "ipython",
    "version": 3
   },
   "file_extension": ".py",
   "mimetype": "text/x-python",
   "name": "python",
   "nbconvert_exporter": "python",
   "pygments_lexer": "ipython3",
   "version": "3.5.3"
  }
 },
 "nbformat": 4,
 "nbformat_minor": 2
}
