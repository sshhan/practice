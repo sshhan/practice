{
 "cells": [
  {
   "cell_type": "markdown",
   "metadata": {},
   "source": [
    "## PartI\n",
    "**编程实现对率回归，并给出西瓜数据集3.0$\\alpha$上的结果。**"
   ]
  },
  {
   "cell_type": "code",
   "execution_count": 1,
   "metadata": {
    "collapsed": true
   },
   "outputs": [],
   "source": [
    "import numpy as np \n",
    "\n",
    "\n",
    "# 输入西瓜数据集\n",
    "watermelon= np.array([[0.697,0.460,'是'],[0.774,0.376,'是'],[0.634,0.264,'是'],\n",
    "           [0.608,0.318,'是'],[0.556,0.215,'是'],[0.403,0.237,'是'],\n",
    "           [0.481,0.149,'是'],[0.437,0.211,'是'],[0.666,0.091,'否'],\n",
    "           [0.243,0.267,'否'],[0.245,0.057,'否'],[0.343,0.099,'否'],\n",
    "           [0.639,0.161,'否'],[0.657,0.198,'否'],[0.360,0.370,'否'],\n",
    "           [0.593,0.042,'否'],[0.719,0.103,'否']])"
   ]
  },
  {
   "cell_type": "code",
   "execution_count": 2,
   "metadata": {
    "collapsed": true
   },
   "outputs": [],
   "source": [
    "## 提取特征和类别\n",
    "features_raw = watermelon[:,0:2].astype('float')\n",
    "labels_raw = watermelon[:,-1][:,None]\n",
    "\n",
    "# 数据预处理\n",
    "x0 = np.ones((len(watermelon),1))\n",
    "features = np.column_stack((x0,features_raw))\n",
    "\n",
    "labels=list()\n",
    "for i in range(len(labels_raw)):\n",
    "    if labels_raw[i]=='是':\n",
    "        labels.append(1)\n",
    "    else:\n",
    "        labels.append(0)\n",
    "        \n",
    "## 拆分训练集和验证集\n",
    "from sklearn.model_selection import train_test_split\n",
    "X_train, X_test, y_train, y_test = train_test_split(features,labels,test_size = 0.5, random_state=0)"
   ]
  },
  {
   "cell_type": "code",
   "execution_count": 3,
   "metadata": {},
   "outputs": [
    {
     "data": {
      "image/png": "[encoded data removed]",
      "text/plain": [
       "<matplotlib.figure.Figure at 0x1098ea400>"
      ]
     },
     "metadata": {},
     "output_type": "display_data"
    }
   ],
   "source": [
    "# 画图看一下数据集情况\n",
    "import matplotlib.pyplot as plt\n",
    "\n",
    "idx_0=[]\n",
    "idx_1=[]\n",
    "for idx, label in enumerate(labels):\n",
    "    if label == 1:\n",
    "        idx_1.append(idx)\n",
    "    else:\n",
    "        idx_0.append(idx)\n",
    "\n",
    "\n",
    "f1 = plt.figure(1)\n",
    "plt.title('watermelon')\n",
    "plt.xlabel('density')\n",
    "plt.ylabel('ratio_sugar')\n",
    "plt.scatter(features_raw[idx_0,0],features_raw[idx_0,1],marker='o',color='k',s=100,label='no')\n",
    "plt.scatter(features_raw[idx_1,0],features_raw[idx_1,1],marker='^',color='g',s=100,label='yes')\n",
    "plt.legend(loc='upper right')\n",
    "plt.show()"
   ]
  },
  {
   "cell_type": "markdown",
   "metadata": {},
   "source": [
    "#### 使用梯度下降法实现对率回归"
   ]
  },
  {
   "cell_type": "code",
   "execution_count": 4,
   "metadata": {
    "collapsed": true
   },
   "outputs": [],
   "source": [
    "def sigmoid(x):\n",
    "    return 1/(1+np.exp(-x))\n",
    "def gradient_descent(train_feature,train_label,alpha,max_iterations):\n",
    "    m, n = train_feature.shape\n",
    "    label = np.mat(train_label).reshape(m,1)\n",
    "    \n",
    "    weights = np.ones((n,1))\n",
    "    for i in range(max_iterations):\n",
    "        error = label - sigmoid(np.dot(train_feature,weights))\n",
    "        weights = weights - alpha*(-np.dot(train_feature.T,error))\n",
    "    return weights\n",
    "\n",
    "def test_pred(test_feature, weights):\n",
    "    pred = np.dot(test_feature, weights)\n",
    "    pred_label = list()\n",
    "    for i in range(len(pred)):\n",
    "        if pred[i]>= 0.5:\n",
    "            pred_label.append(1)\n",
    "        else:\n",
    "            pred_label.append(0)\n",
    "    return pred_label\n",
    "\n",
    "def test_score(pred_label,test_label):\n",
    "    count = 0\n",
    "    for i in range(len(pred_label)):\n",
    "        if pred_label[i] == test_label[i]:\n",
    "            count += 1\n",
    "    accuracy_score = count/len(pred_label)\n",
    "    return accuracy_score"
   ]
  },
  {
   "cell_type": "code",
   "execution_count": 5,
   "metadata": {
    "scrolled": true
   },
   "outputs": [
    {
     "name": "stdout",
     "output_type": "stream",
     "text": [
      "0.6666666666666666\n"
     ]
    }
   ],
   "source": [
    "weights=gradient_descent(X_train,y_train,alpha=10,max_iterations=1000)\n",
    "pred_label=test_pred(X_test,weights)\n",
    "accuracy_score=test_score(pred_label, y_test)\n",
    "print(accuracy_score)"
   ]
  },
  {
   "cell_type": "markdown",
   "metadata": {},
   "source": [
    "#### 使用随机梯度下降法实现对率回归"
   ]
  },
  {
   "cell_type": "code",
   "execution_count": 6,
   "metadata": {
    "collapsed": true
   },
   "outputs": [],
   "source": [
    "def sigmoid(x):\n",
    "    return 1/(1+np.exp(-x))\n",
    "def random_descent(train_feature, train_label,max_iterations,alpha):\n",
    "    m,n = train_feature.shape\n",
    "    label = train_label\n",
    "    \n",
    "    weights = np.ones(n)\n",
    "    for i in range(max_iterations):\n",
    "        for j in range(m):\n",
    "            error = label[j] - sigmoid(np.dot(train_feature[j],weights))\n",
    "            weights = weights +alpha*error*train_feature[j]\n",
    "    return weights\n",
    "def test_pred2(test_feature, weights):\n",
    "    pred = np.dot(test_feature, weights)\n",
    "    pred_label = list()\n",
    "    for i in range(len(pred)):\n",
    "        if pred[i]>= 0.5:\n",
    "            pred_label.append(1)\n",
    "        else:\n",
    "            pred_label.append(0)\n",
    "    return pred_label\n",
    "\n",
    "def test_score2(pred_label,test_label):\n",
    "    count = 0\n",
    "    for i in range(len(pred_label)):\n",
    "        if pred_label[i] == test_label[i]:\n",
    "            count += 1\n",
    "    accuracy_score = count/len(pred_label)\n",
    "    return accuracy_score"
   ]
  },
  {
   "cell_type": "code",
   "execution_count": 7,
   "metadata": {},
   "outputs": [
    {
     "name": "stdout",
     "output_type": "stream",
     "text": [
      "0.6666666666666666\n"
     ]
    }
   ],
   "source": [
    "weights2=random_descent(X_train,y_train,alpha=5,max_iterations=1000)\n",
    "pred_label2=test_pred2(X_test,weights2)\n",
    "accuracy_score2=test_score2(pred_label2, y_test)\n",
    "print(accuracy_score2)"
   ]
  },
  {
   "cell_type": "markdown",
   "metadata": {},
   "source": [
    "#### 使用牛顿法实现对率回归"
   ]
  },
  {
   "cell_type": "code",
   "execution_count": 8,
   "metadata": {
    "collapsed": true
   },
   "outputs": [],
   "source": [
    "def sigmoid(x):\n",
    "    return 1/(1+np.exp(-x))\n",
    "def newton_method(train_feature, train_label, max_iterations):\n",
    "    m, n = train_feature.shape\n",
    "    label = np.mat(train_label).reshape(m,1)\n",
    "    \n",
    "    weights = np.ones((n,1))\n",
    "    for i in range(max_iterations):\n",
    "        error = label - sigmoid(np.dot(train_feature, weights))\n",
    "        deriv1 = -np.dot(train_feature.T,error)\n",
    "        v = np.dot(error,(1-error).T)\n",
    "        deriv2 = train_feature.T*v*train_feature\n",
    "        weights = weights - deriv2*deriv1\n",
    "    return weights\n",
    "def test_pred1(test_feature, weights):\n",
    "    pred= np.dot(test_feature,weights)\n",
    "    pred_label = list()\n",
    "    for i in range(len(pred)):\n",
    "        if pred[i] >= 0.5:\n",
    "            pred_label.append(1)\n",
    "        else:\n",
    "            pred_label.append(0)\n",
    "    return pred_label\n",
    "def test_score1(pred_label, test_label):\n",
    "    count = 0\n",
    "    for i in range(len(pred_label)):\n",
    "        if pred_label[i]==test_label[i]:\n",
    "            count +=1\n",
    "    accuracy_score = count/(len(pred_label))\n",
    "    return accuracy_score"
   ]
  },
  {
   "cell_type": "code",
   "execution_count": 9,
   "metadata": {
    "scrolled": true
   },
   "outputs": [
    {
     "name": "stdout",
     "output_type": "stream",
     "text": [
      "0.4444444444444444\n"
     ]
    }
   ],
   "source": [
    "weights1=newton_method(X_train,y_train,max_iterations=500)\n",
    "pred_label1=test_pred1(X_test,weights1)\n",
    "accuracy_score1=test_score1(pred_label1, y_test)\n",
    "print(accuracy_score1)"
   ]
  },
  {
   "cell_type": "markdown",
   "metadata": {},
   "source": [
    "#### 采用sklearn逻辑斯蒂库函数直接拟合"
   ]
  },
  {
   "cell_type": "code",
   "execution_count": 10,
   "metadata": {
    "scrolled": true
   },
   "outputs": [
    {
     "name": "stdout",
     "output_type": "stream",
     "text": [
      "[[3 2]\n",
      " [1 3]]\n",
      "0.666666666667\n"
     ]
    }
   ],
   "source": [
    "from sklearn.linear_model import LogisticRegression\n",
    "from sklearn.metrics import accuracy_score\n",
    "from sklearn.metrics import confusion_matrix\n",
    "\n",
    "log = LogisticRegression()\n",
    "log.fit(X_train,y_train)\n",
    "pred_label = log.predict(X_test)\n",
    "score=accuracy_score(y_test,pred_label)\n",
    "\n",
    "print(confusion_matrix(y_test,pred_label))\n",
    "print(score)"
   ]
  },
  {
   "cell_type": "markdown",
   "metadata": {},
   "source": [
    "## Part II\n",
    "**选择两个UCI数据集，比较十折交叉验证法和留一法所估计出的对率回归的错误率。**\n",
    "### 1.选择Iris数据集  \n",
    "内部共150个数据集，3种类别，每类50个样本。  \n",
    "每次选择两类做二分类计算，做3轮计算。  \n",
    "每轮选择100个样本，10折交叉验证每次选45正-45反，剩余10个作为验证，一共10组，共验证100例。  \n",
    "留一法每次留一个作为验证集，一共做100组，也就是100例。  \n",
    "每个方法最终验证300例，直接比较错误分类的个数就能评价两种方法在数据集上的适用程度。"
   ]
  },
  {
   "cell_type": "code",
   "execution_count": 173,
   "metadata": {
    "collapsed": true
   },
   "outputs": [],
   "source": [
    "from random import sample\n",
    "\n",
    "# 读取数据 \n",
    "# 提取特征和类别\n",
    "features_raw = []\n",
    "labels = []\n",
    "with open('iris.txt') as f:\n",
    "    for line in f.readlines():\n",
    "        lines = line.strip().split(',')\n",
    "        features_raw.append(lines[0:4])\n",
    "        labels.append(lines[-1])\n",
    "        \n",
    "# 数据预处理\n",
    "features = np.array(features_raw).astype('float')\n",
    "label_name = np.unique(labels)\n",
    "\n",
    "## 随机抽样，获得50个正例与50个反例的集合\n",
    "def data_preprocess(features_raw,labels_raw, labels_name):\n",
    "    # 将类别处理为0-1变量\n",
    "    label_pre = []\n",
    "    for i in range(len(labels_raw)):\n",
    "        if labels_raw[i] == labels_name:\n",
    "            label_pre.append(1)\n",
    "        else:\n",
    "            label_pre.append(0)\n",
    "    labels_pre = np.array(label_pre)\n",
    "    # 抽取等量的正类和负类使得样本平衡\n",
    "    id_0=[]\n",
    "    id_1 = []\n",
    "    for idl, label in enumerate(labels_pre):\n",
    "        if label == 1:\n",
    "            id_1.append(idl)\n",
    "        else:\n",
    "            id_0.append(idl)\n",
    "    new_id = id_1+sample(id_0, len(id_1))\n",
    "    features_new = features_raw[new_id]\n",
    "    labels_new = labels_pre[new_id]\n",
    "    return features_new, labels_new \n",
    "\n",
    "\n",
    "# 二分类类别：正类为'Iris-setosa'，其余是负类\n",
    "features1, y1_labels = data_preprocess(features, labels, label_name[0])\n",
    "\n",
    "# 二分类类别：正类为'Iris-versicolor'，其余是负类\n",
    "features2, y2_labels = data_preprocess(features, labels, label_name[1])\n",
    "\n",
    "# 二分类类别：正类为'Iris-virginica'，其余是负类\n",
    "features3, y3_labels = data_preprocess(features, labels, label_name[2])"
   ]
  },
  {
   "cell_type": "markdown",
   "metadata": {},
   "source": [
    "#### 用sklearn 实现交叉验证"
   ]
  },
  {
   "cell_type": "code",
   "execution_count": 174,
   "metadata": {},
   "outputs": [
    {
     "name": "stdout",
     "output_type": "stream",
     "text": [
      "the result of ten-fold crossvalidation :\n",
      "accuracy score of Iris-setosa is 1.0\n",
      "accuracy score of Iris-versicolor is 0.72\n",
      "accuracy score of Iris-virginica is 0.96\n"
     ]
    }
   ],
   "source": [
    "from sklearn.model_selection import StratifiedKFold\n",
    "from sklearn.linear_model import LogisticRegression\n",
    "from sklearn.metrics import accuracy_score\n",
    "\n",
    "def cross_valid(feature_all, label_all, n_splits):\n",
    "    kf=StratifiedKFold(n_splits)\n",
    "    score_all=[]\n",
    "    for train_index, test_index in kf.split(feature_all,label_all):\n",
    "        X_train, X_test = feature_all[train_index],feature_all[test_index]\n",
    "        y_train, y_test = label_all[train_index],label_all[test_index]\n",
    "        log1=LogisticRegression()\n",
    "        log1.fit(X_train, y_train)\n",
    "        pred_test = log1.predict(X_test)\n",
    "        score = accuracy_score(y_test, pred_test)\n",
    "        score_all.append(score)\n",
    "    return score_all\n",
    "print('the result of ten-fold crossvalidation :') \n",
    "print('accuracy score of Iris-setosa is',np.mean(cross_valid(features1,y1_labels,n_splits=10)))\n",
    "print('accuracy score of Iris-versicolor is',np.mean(cross_valid(features2,y2_labels,n_splits=10)))\n",
    "print('accuracy score of Iris-virginica is',np.mean(cross_valid(features3,y3_labels,n_splits=10)))"
   ]
  },
  {
   "cell_type": "markdown",
   "metadata": {},
   "source": [
    "#### 用sklearn 实现留一法"
   ]
  },
  {
   "cell_type": "code",
   "execution_count": 175,
   "metadata": {},
   "outputs": [
    {
     "name": "stdout",
     "output_type": "stream",
     "text": [
      "the result of leave-one-out :\n",
      "accuracy score of Iris-setosa is 1.0\n",
      "accuracy score of Iris-versicolor is 0.72\n",
      "accuracy score of Iris-virginica is 0.96\n"
     ]
    }
   ],
   "source": [
    "from sklearn.model_selection import LeaveOneOut\n",
    "from sklearn.linear_model import LogisticRegression\n",
    "from sklearn.metrics import accuracy_score\n",
    "\n",
    "def leave_one_out(feature_all, label_all):\n",
    "    loo = LeaveOneOut()\n",
    "    score_all=[]\n",
    "    for train_index, test_index in loo.split(feature_all,label_all):\n",
    "        X_train, X_test = feature_all[train_index],feature_all[test_index]\n",
    "        y_train, y_test = label_all[train_index],label_all[test_index]\n",
    "        log1=LogisticRegression()\n",
    "        log1.fit(X_train, y_train)\n",
    "        pred_test = log1.predict(X_test)\n",
    "        score = accuracy_score(y_test, pred_test)\n",
    "        score_all.append(score)\n",
    "    return score_all\n",
    "\n",
    "\n",
    "print('the result of leave-one-out :') \n",
    "print('accuracy score of Iris-setosa is',np.mean(leave_one_out(features1,y1_labels)))\n",
    "print('accuracy score of Iris-versicolor is',np.mean(leave_one_out(features2,y2_labels)))\n",
    "print('accuracy score of Iris-virginica is',np.mean(leave_one_out(features3,y3_labels)))"
   ]
  },
  {
   "cell_type": "markdown",
   "metadata": {},
   "source": [
    "#### 用之前的函数手动实现\n",
    "- 梯度下降法 实现交叉验证"
   ]
  },
  {
   "cell_type": "code",
   "execution_count": 176,
   "metadata": {},
   "outputs": [
    {
     "name": "stdout",
     "output_type": "stream",
     "text": [
      "the result of ten-fold crossvalidation :\n"
     ]
    },
    {
     "name": "stderr",
     "output_type": "stream",
     "text": [
      "/anaconda/lib/python3.5/site-packages/ipykernel_launcher.py:2: RuntimeWarning: overflow encountered in exp\n",
      "  \n"
     ]
    },
    {
     "name": "stdout",
     "output_type": "stream",
     "text": [
      "accuracy score of Iris-setosa is 1.0\n",
      "accuracy score of Iris-versicolor is 0.6\n",
      "accuracy score of Iris-virginica is 0.95\n"
     ]
    }
   ],
   "source": [
    "from sklearn.model_selection import StratifiedKFold\n",
    "\n",
    "def cross_valid1(feature_all, label_all, n_splits):\n",
    "    kf=StratifiedKFold(n_splits)\n",
    "    score_all=[]\n",
    "    for train_index, test_index in kf.split(feature_all,label_all):\n",
    "        X_train, X_test = feature_all[train_index],feature_all[test_index]\n",
    "        y_train, y_test = label_all[train_index],label_all[test_index]\n",
    "        weights=gradient_descent(X_train,y_train,alpha=10,max_iterations=1000)\n",
    "        pred_label=test_pred(X_test,weights)\n",
    "        score_all.append(test_score(pred_label, y_test))\n",
    "    return score_all\n",
    "print('the result of ten-fold crossvalidation :') \n",
    "print('accuracy score of Iris-setosa is',np.mean(cross_valid1(features1,y1_labels,n_splits=10)))\n",
    "print('accuracy score of Iris-versicolor is',np.mean(cross_valid1(features2,y2_labels,n_splits=10)))\n",
    "print('accuracy score of Iris-virginica is',np.mean(cross_valid1(features3,y3_labels,n_splits=10)))"
   ]
  },
  {
   "cell_type": "markdown",
   "metadata": {},
   "source": [
    "- 用梯度下降实现留一法"
   ]
  },
  {
   "cell_type": "code",
   "execution_count": 177,
   "metadata": {
    "scrolled": true
   },
   "outputs": [
    {
     "name": "stdout",
     "output_type": "stream",
     "text": [
      "the result of leave-one-out :\n"
     ]
    },
    {
     "name": "stderr",
     "output_type": "stream",
     "text": [
      "/anaconda/lib/python3.5/site-packages/ipykernel_launcher.py:2: RuntimeWarning: overflow encountered in exp\n",
      "  \n"
     ]
    },
    {
     "name": "stdout",
     "output_type": "stream",
     "text": [
      "accuracy score of Iris-setosa is 1.0\n",
      "accuracy score of Iris-versicolor is 0.57\n",
      "accuracy score of Iris-virginica is 0.98\n"
     ]
    }
   ],
   "source": [
    "from sklearn.model_selection import LeaveOneOut\n",
    "\n",
    "def leave_one_out1(feature_all, label_all):\n",
    "    loo = LeaveOneOut()\n",
    "    score_all=[]\n",
    "    for train_index, test_index in loo.split(feature_all,label_all):\n",
    "        X_train, X_test = feature_all[train_index],feature_all[test_index]\n",
    "        y_train, y_test = label_all[train_index],label_all[test_index]\n",
    "        weights=gradient_descent(X_train,y_train,alpha=10,max_iterations=1000)\n",
    "        pred_label=test_pred(X_test,weights)\n",
    "        score_all.append(test_score(pred_label, y_test))\n",
    "    return score_all\n",
    "\n",
    "\n",
    "print('the result of leave-one-out :') \n",
    "print('accuracy score of Iris-setosa is',np.mean(leave_one_out1(features1,y1_labels)))\n",
    "print('accuracy score of Iris-versicolor is',np.mean(leave_one_out1(features2,y2_labels)))\n",
    "print('accuracy score of Iris-virginica is',np.mean(leave_one_out1(features3,y3_labels)))"
   ]
  },
  {
   "cell_type": "markdown",
   "metadata": {},
   "source": [
    "## 2.选择wine数据集\n",
    "- 这里我们只使用sklearn进行实现，其余实现方法与Iris相同。"
   ]
  },
  {
   "cell_type": "code",
   "execution_count": 178,
   "metadata": {
    "collapsed": true
   },
   "outputs": [],
   "source": [
    "from random import sample\n",
    "\n",
    "# 读取数据 \n",
    "# 提取特征和类别\n",
    "wine_features_raw = []\n",
    "wine_labels = []\n",
    "with open('wine.txt') as f:\n",
    "    for line in f.readlines():\n",
    "        lines = line.strip().split(',')\n",
    "        wine_features_raw.append(lines[1:])\n",
    "        wine_labels.append(lines[0])  \n",
    "# 数据预处理        \n",
    "wine_features = np.array(wine_features_raw).astype('float')\n",
    "wine_label_name = np.unique(wine_labels)  \n",
    "\n",
    "# 二分类类别：正类为'Iris-setosa'，其余是负类\n",
    "wine_features1, wine_y1_labels = data_preprocess(wine_features, wine_labels, wine_label_name[0])\n",
    "\n",
    "# 二分类类别：正类为'Iris-versicolor'，其余是负类\n",
    "wine_features2, wine_y2_labels = data_preprocess(wine_features, wine_labels, wine_label_name[1])\n",
    "\n",
    "# 二分类类别：正类为'Iris-virginica'，其余是负类\n",
    "wine_features3, wine_y3_labels = data_preprocess(wine_features, wine_labels, wine_label_name[2])"
   ]
  },
  {
   "cell_type": "markdown",
   "metadata": {},
   "source": [
    "#### 交叉验证"
   ]
  },
  {
   "cell_type": "code",
   "execution_count": 184,
   "metadata": {},
   "outputs": [
    {
     "name": "stdout",
     "output_type": "stream",
     "text": [
      "the result of ten-fold crossvalidation :\n",
      "accuracy score of Iris-setosa is 0.958333333333\n",
      "accuracy score of Iris-versicolor is 0.944642857143\n",
      "accuracy score of Iris-virginica is 0.98\n"
     ]
    }
   ],
   "source": [
    "print('the result of ten-fold crossvalidation :') \n",
    "\n",
    "print('accuracy score of Iris-setosa is',np.mean(cross_valid(wine_features1,wine_y1_labels,n_splits=10)))\n",
    "print('accuracy score of Iris-versicolor is',np.mean(cross_valid(wine_features2,wine_y2_labels,n_splits=10)))\n",
    "print('accuracy score of Iris-virginica is',np.mean(cross_valid(wine_features3,wine_y3_labels,n_splits=10)))"
   ]
  },
  {
   "cell_type": "markdown",
   "metadata": {},
   "source": [
    "#### 留一法"
   ]
  },
  {
   "cell_type": "code",
   "execution_count": 185,
   "metadata": {},
   "outputs": [
    {
     "name": "stdout",
     "output_type": "stream",
     "text": [
      "the result of leave-one-out :\n",
      "accuracy score of Iris-setosa is 0.957627118644\n",
      "accuracy score of Iris-versicolor is 0.950704225352\n",
      "accuracy score of Iris-virginica is 0.96875\n"
     ]
    }
   ],
   "source": [
    "print('the result of leave-one-out :') \n",
    "print('accuracy score of Iris-setosa is',np.mean(leave_one_out(wine_features1,wine_y1_labels)))\n",
    "print('accuracy score of Iris-versicolor is',np.mean(leave_one_out(wine_features2,wine_y2_labels)))\n",
    "print('accuracy score of Iris-virginica is',np.mean(leave_one_out(wine_features3,wine_y3_labels)))"
   ]
  },
  {
   "cell_type": "markdown",
   "metadata": {},
   "source": [
    "**结果**  \n",
    "由结果可见，十折交叉验证法和留一法结果基本一致。"
   ]
  }
 ],
 "metadata": {
  "kernelspec": {
   "display_name": "Python 3",
   "language": "python",
   "name": "python3"
  },
  "language_info": {
   "codemirror_mode": {
    "name": "ipython",
    "version": 3
   },
   "file_extension": ".py",
   "mimetype": "text/x-python",
   "name": "python",
   "nbconvert_exporter": "python",
   "pygments_lexer": "ipython3",
   "version": "3.5.3"
  }
 },
 "nbformat": 4,
 "nbformat_minor": 2
}
