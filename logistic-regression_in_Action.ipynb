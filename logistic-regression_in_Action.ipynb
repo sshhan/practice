{
 "cells": [
  {
   "cell_type": "code",
   "execution_count": 75,
   "metadata": {},
   "outputs": [],
   "source": [
    "# 输入西瓜数据集\n",
    "watermelon=[[0.697,0.460,'是'],[0.774,0.376,'是'],[0.634,0.264,'是'],\n",
    "           [0.608,0.318,'是'],[0.556,0.215,'是'],[0.403,0.237,'是'],\n",
    "           [0.481,0.149,'是'],[0.437,0.211,'是'],[0.666,0.091,'否'],\n",
    "           [0.243,0.267,'否'],[0.245,0.057,'否'],[0.343,0.099,'否'],\n",
    "           [0.639,0.161,'否'],[0.657,0.198,'否'],[0.360,0.370,'否'],\n",
    "           [0.593,0.042,'否'],[0.719,0.103,'否']]"
   ]
  },
  {
   "cell_type": "code",
   "execution_count": 95,
   "metadata": {
    "collapsed": true
   },
   "outputs": [],
   "source": [
    "import numpy as np \n",
    "\n",
    "## 提取特征和类别\n",
    "features_raw = watermelon[:,0:2].astype('float')\n",
    "labels_raw = watermelon[:,-1]\n",
    "\n",
    "# 数据预处理\n",
    "x0 = np.ones((len(watermelon),1))\n",
    "features = np.column_stack((x0,features_raw))\n",
    "\n",
    "labels=list()\n",
    "for i in range(len(labels_raw)):\n",
    "    if labels_raw[i]=='是':\n",
    "        labels.append(1)\n",
    "    else:\n",
    "        labels.append(0)\n",
    "        \n",
    "## 拆分训练集和验证集\n",
    "from sklearn.model_selection import train_test_split\n",
    "X_train, X_test, y_train, y_test = train_test_split(features,labels,test_size = 0.4, random_state=4)"
   ]
  },
  {
   "cell_type": "code",
   "execution_count": 125,
   "metadata": {},
   "outputs": [],
   "source": [
    "def sigmoid(x):\n",
    "    return 1/(1+np.exp(-x))\n",
    "def gradient_Ascent(training_feature,training_label,alpha,max_iterations):\n",
    "    m, n = training_feature.shape\n",
    "    label = np.mat(training_label).reshape(m,1)\n",
    "    \n",
    "    weights = np.ones((n,1))\n",
    "    for i in range(max_iterations):\n",
    "        error = label - sigmoid(np.dot(training_feature,weights))\n",
    "        weights = weights + alpha*np.dot(training_feature.T,error)\n",
    "    return weights\n",
    "\n",
    "def test_pred(test_feature, weights):\n",
    "    pred = np.dot(test_feature, weights)\n",
    "    pred_label = list()\n",
    "    for i in range(len(pred)):\n",
    "        if pred[i]>= 0.5:\n",
    "            pred_label.append(1)\n",
    "        else:\n",
    "            pred_label.append(0)\n",
    "    return pred_label\n",
    "\n",
    "def test_score(pred_label,test_label):\n",
    "    count = 0\n",
    "    for i in range(len(pred_label)):\n",
    "        if pred_label[i] == test_label[i]:\n",
    "            count += 1\n",
    "    accuracy_score = count/len(pred_label)\n",
    "    return accuracy_score"
   ]
  },
  {
   "cell_type": "code",
   "execution_count": 147,
   "metadata": {
    "scrolled": true
   },
   "outputs": [
    {
     "name": "stdout",
     "output_type": "stream",
     "text": [
      "0.7142857142857143\n"
     ]
    }
   ],
   "source": [
    "weights=gradient_Ascent(X_train,y_train,alpha=5,max_iterations=3500)\n",
    "pred_label=test_pred(X_test,weights)\n",
    "accuracy_score=test_score(pred_label, y_test)\n",
    "print(accuracy_score)"
   ]
  }
 ],
 "metadata": {
  "kernelspec": {
   "display_name": "Python 3",
   "language": "python",
   "name": "python3"
  },
  "language_info": {
   "codemirror_mode": {
    "name": "ipython",
    "version": 3
   },
   "file_extension": ".py",
   "mimetype": "text/x-python",
   "name": "python",
   "nbconvert_exporter": "python",
   "pygments_lexer": "ipython3",
   "version": "3.5.3"
  }
 },
 "nbformat": 4,
 "nbformat_minor": 2
}
