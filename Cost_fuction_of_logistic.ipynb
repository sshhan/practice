{
 "cells": [
  {
   "cell_type": "markdown",
   "metadata": {},
   "source": [
    "## 逻辑斯蒂回归损失函数\n",
    "逻辑斯蒂回归模型预估的是样本属于某个分类的概率，其损失函数可以像线性回归那样，以平均误差表示；也可以用对数损失，概率等方式。损失函数本质上是衡量'模型估计值'到'实际值'的距离，选取好的距离单位，就可以让模型更准确。  \n",
    "那重点来了：logistic回归的的损失函数，还会跟感知机或者下面即将提到的 SVM 一样，能根据样本点到决策面的距离来定义损失函数吗？\n",
    "　　答曰：不可以滴。刚才讲了，逻辑回归中的距离，是“ y\n",
    "y\n",
    " 为1类的对数几率比”，这个距离既不是最大就好，也不是最小就好。所有这里的“距离”不能直接作为损失函数。"
   ]
  },
  {
   "cell_type": "markdown",
   "metadata": {},
   "source": [
    "### 思考：通常是最小化损失函数，这里为什么求极大似然估计？\n",
    "- 对数损失函数或对数似然损失函数形式如下：\n",
    "\n",
    "$$ L(Y,P(Y|X))=-\\log P(Y|X)$$\n",
    "> - 如何理解对数损失函数？\n",
    "L(Y,P(Y|X))表示分类为Y的情况下，样本的预测值和目标值的接近程度(距离)。如果$P(Y|X)$的概率尽可能大，样本的预测值和目标值越接近，则损失函数越小。\n",
    "即$\\dfrac{1}{P(Y|X)}$尽可能的小，为了将连乘简化，取对数求和，就变成了\n",
    "$-\\log P(Y|X)$，这样$P(Y|X)$越大，$-\\log P(Y|X)$越小。\n",
    "   \n",
    "在逻辑斯蒂回归模型上使用对数损失函数，取整个数据集上的平均对数损失函数，可以得到：  \n",
    "$$J(w)=-\\dfrac{1}{n}\\log L(w)=-\\dfrac{1}{n}l(w)$$  \n",
    "即在逻辑斯蒂回归中，最大化似然函数和最小化对数损失函数是等价的:  \n",
    "$$\\max l(w)\\Leftrightarrow \\min J(w)$$"
   ]
  },
  {
   "cell_type": "code",
   "execution_count": 4,
   "metadata": {},
   "outputs": [],
   "source": [
    "from sklearn.preprocessing import MinMaxScaler\n",
    "import numpy as np\n",
    "weights=np.array([[115.],[140.],[175.]])\n",
    "scale=MinMaxScaler()\n",
    "rescaled_weight=scale.fit_transform(weights)"
   ]
  },
  {
   "cell_type": "code",
   "execution_count": 5,
   "metadata": {},
   "outputs": [
    {
     "data": {
      "text/plain": [
       "array([[ 0.        ],\n",
       "       [ 0.41666667],\n",
       "       [ 1.        ]])"
      ]
     },
     "execution_count": 5,
     "metadata": {},
     "output_type": "execute_result"
    }
   ],
   "source": [
    "rescaled_weight"
   ]
  },
  {
   "cell_type": "code",
   "execution_count": null,
   "metadata": {
    "collapsed": true
   },
   "outputs": [],
   "source": []
  }
 ],
 "metadata": {
  "kernelspec": {
   "display_name": "Python 3",
   "language": "python",
   "name": "python3"
  },
  "language_info": {
   "codemirror_mode": {
    "name": "ipython",
    "version": 3
   },
   "file_extension": ".py",
   "mimetype": "text/x-python",
   "name": "python",
   "nbconvert_exporter": "python",
   "pygments_lexer": "ipython3",
   "version": "3.5.3"
  }
 },
 "nbformat": 4,
 "nbformat_minor": 2
}
