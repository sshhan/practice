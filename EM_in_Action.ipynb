{
 "cells": [
  {
   "cell_type": "markdown",
   "metadata": {},
   "source": [
    "### EM算法的简单实现\n",
    "#### 例(双硬币模型)\n",
    "假设有两枚硬币A、B，以相同的概率随机选择一个硬币，进行如下的抛硬币实验：共做5次实验，每次实验独立的抛十次，结果如图中a所示，例如某次实验产生了H、T、T、T、H、H、T、H、T、H，H代表正面朝上。  \n",
    "假设试验数据记录员可能是实习生，业务不一定熟悉，造成a和b两种情况  \n",
    "a表示实习生记录了详细的试验数据，我们可以观测到试验数据中每次选择的是A还是B  \n",
    "b表示实习生忘了记录每次试验选择的是A还是B，我们无法观测实验数据中选择的硬币是哪个。\n",
    "问在两种情况下分别如何估计两个硬币正面出现的概率？  "
   ]
  },
  {
   "cell_type": "markdown",
   "metadata": {},
   "source": [
    "### a.Maximum likelihood\n",
    "| Coin A       | Coin B        |\n",
    "| -------------|:-------------:|\n",
    "|              | 5 H, 5 T      | \n",
    "| 9 H, 1 T     |               | \n",
    "| 8 H, 2 T     |               |\n",
    "|              | 4 H, 6 T      |\n",
    "| 7 H, 7 T     |               |\n",
    "硬币A出现正面的概率：$\\hat{\\theta}_A=\\dfrac{24}{30}=0.80$  \n",
    "硬币B出现正面的概率：$\\hat{\\theta}_B=\\dfrac{9}{20}=0.45$   \n",
    "能够观测到实验数据是哪枚硬币产生的，就可以统计正反面的次数，直接利用极大似然估计。"
   ]
  },
  {
   "cell_type": "markdown",
   "metadata": {},
   "source": [
    "### b.Expectation Maximization(EM)\n",
    "只能观测到实验结果，结果如下：   \n",
    "\n",
    "| |(1)|(2)|(3)|(4)|(5)|(6)|(7)|(8)|(9)|(10)|\n",
    "|---|---|---|---|---|---|---|---|---|---|---|\n",
    "|1|H|T|T|T|H|H|T|H|T|H|\n",
    "|2|H|H|H|H|T|H|H|H|H|H| \n",
    "|3|H|T|H|H|H|H|H|T|H|H|\n",
    "|4|H|T|H|T|T|T|H|H|T|T|\n",
    "|5|T|H|H|H|T|H|H|H|T|H|\n",
    "这种情况无法进行最大似然估计，只能利用EM算法。  \n",
    "问题重述：记p,q分别为硬币A，硬币B出现正面的概率。记为参数$\\theta=(p,q)$\n",
    "观测数据为$Y=(y_1,y_2,\\cdots,y_n)$,n=5这里表示进行5次实验的结果,每次实验都进行了10次独立观测;$y_i$表示在第i次实验中出现正面的次数;未观测数据为$Z=(z_1,z_2,\\cdots,z_n)$,$z_i=1$表示数据结果来自硬币A，$z_i=0$表示数据结果来自硬币B，假定每次实验只取一枚硬币。   \n",
    "则有  \n",
    "$p(y_i;\\theta)=\\sum_Z p(y_i,z_i;\\theta)=\\sum_Z p(z_i;\\theta)p(y_i|z_i;\\theta)=p^{y_i}(1-p)^{(10-y_i)}+q^{y_i}(1-q)^{(10-y_i)}$\n",
    "\n",
    "计算:  \n",
    "$$\n",
    "\\begin{eqnarray}\n",
    "\\pi_i=p(z_i=1|y_i;\\theta)&=&\\dfrac{p(y_i,z_i;\\theta)}{p(y_i;\\theta)}\\notag\\\\\n",
    "&=&\\dfrac{p^{y_i}(1-p)^{(10-y_i)}}{p^{y_i}(1-p)^{(10-y_i)}+q^{y_i}(1-q)^{(10-y_i)}}\n",
    "\\end{eqnarray}\n",
    "$$  \n",
    "\n",
    "$$1-\\pi_i=p(z_i=0|y_i;\\theta)=\\dfrac{q^{y_i}(1-q)^{(10-y_i)}}{p^{y_i}(1-p)^{(10-y_i)}+q^{y_i}(1-q)^{(10-y_i)}}$$"
   ]
  },
  {
   "cell_type": "markdown",
   "metadata": {},
   "source": [
    "### EM算法具体步骤\n",
    "- 初始化：  \n",
    "> - 选定初值，比如：$p^{(0)};\\qquad q^{(0)}$ \n",
    "- E步： 在第t次迭代后，我们有：  \n",
    "$$ \\pi_i^{(t+1)}=\\dfrac{(p^{(t)})^{y_i}(1-p^{(t)})^{(10-y_i)}}{(p^{(t)})^{y_i}(1-p^{(t)})^{(10-y_i)}+(q^{(t)})^{y_i}(1-q^{(t)})^{(10-y_i)}}$$  \n",
    "\n",
    "$$ 1-\\pi_i^{(t+1)}=\\dfrac{(q^{(t)})^{y_i}(1-q^{(t)})^{(10-y_i)}}{(p^{(t)})^{y_i}(1-p^{(t)})^{(10-y_i)}+(q^{(t)})^{y_i}(1-q^{(t)})^{(10-y_i)}}$$\n",
    "\n",
    "Q函数的形式为：  \n",
    "$$Q(\\theta,\\theta^{(t)})=\\sum_{i=1}^n\\pi_i^{(t+1)}\\log p^{y_i}(1-p)^{(10-y_i)} +(1-\\pi_i^{(t+1)})\\log q^{y_i}(1-q)^{(10-y_i)}$$  \n",
    "- M步：$$\\theta^{(t+1)}=arg\\max\\limits_{\\theta}Q(\\theta,\\theta^{(t)})$$  \n",
    "对Q函数求偏导，并令其为0，可得： \n",
    "对Q函数求偏导，并令其为0，可得： \n",
    "$$\\sum_{i=1}\\dfrac{\\pi_i^{(t+1)}y_i}{p}-\\dfrac{\\pi_i^{(t+1)}(10-y_i)}{1-p}=0\\rightarrow p^{(t+1)}=\\dfrac{\\sum_{i=1}^n\\pi_i^{(t+1)}y_i}{\\sum_{i=1}^n 10\\pi_i^{(t+1)}}$$\n",
    "$$\\sum_{i=1}\\dfrac{(1-\\pi_i^{(t+1)})y_i}{q}-\\dfrac{(1-\\pi_i^{(t+1))}(10-y_i)}{1-q}=0\\rightarrow q^{(t+1)}=\\dfrac{\\sum_{i=1}^n(1-\\pi_i^{(t+1)})y_i}{\\sum_{i=1}^n 10(1-\\pi_i^{(t+1)})}$$"
   ]
  },
  {
   "cell_type": "markdown",
   "metadata": {},
   "source": [
    "### python编程实现\n",
    "#### 建立数据集\n",
    "- 用1表示出现正面(H),用0表示出现反面(T)"
   ]
  },
  {
   "cell_type": "code",
   "execution_count": 11,
   "metadata": {
    "collapsed": true
   },
   "outputs": [],
   "source": [
    "import numpy as np\n",
    "observations=np.array([[1,0,0,0,1,1,0,1,0,1],\n",
    "                       [1,1,1,1,0,1,1,1,1,1],\n",
    "                       [1,0,1,1,1,1,1,0,1,1],\n",
    "                       [1,0,1,0,0,0,1,1,0,0],\n",
    "                       [0,1,1,1,0,1,1,1,0,1]])"
   ]
  },
  {
   "cell_type": "markdown",
   "metadata": {},
   "source": [
    "- 初始化：  \n",
    "> - 选定初值，比如：$p^{(0)}=0.6;\\qquad q^{(0)}=0.5$   \n",
    "\n",
    "\n",
    "#### 单次循环的代码："
   ]
  },
  {
   "cell_type": "code",
   "execution_count": 29,
   "metadata": {
    "collapsed": true
   },
   "outputs": [],
   "source": [
    "from scipy import stats\n",
    "def em_single(priors,observations):\n",
    "    '''\n",
    "    EM算法单次迭代\n",
    "    ------------\n",
    "    priors=[p,q]\n",
    "    observation: m*n matrix\n",
    "    ------------\n",
    "    return \n",
    "    ------------\n",
    "    new_priors:[new_p,new_q]\n",
    "    '''\n",
    "    counts={'A':{'H':0,'T':0},'B':{'H':0,'T':0}}\n",
    "    p_A=0\n",
    "    p_B=0\n",
    "    p0=priors[0]\n",
    "    q0=priors[1]\n",
    "    # E step\n",
    "    for observation in observations:\n",
    "        len_observation=len(observation)\n",
    "        num_heads=observation.sum() #计数正面的次数\n",
    "        num_tails=len_observation-num_heads #计数反面的次数\n",
    "        \n",
    "        contribution_A=p0**num_heads*(1-p0)**num_tails \n",
    "        contribution_B=q0**num_heads*(1-q0)**num_tails \n",
    "        weight_A=contribution_A/(contribution_A+contribution_B)#\\pi 的概率\n",
    "        weight_B=contribution_B/(contribution_A+contribution_B)\n",
    "        #更新在当前参数下A,B硬币产生的正反面次数\n",
    "        counts['A']['H'] += weight_A*num_heads # p的分母\n",
    "        counts['B']['H'] += weight_B*num_heads # q的分母\n",
    "        \n",
    "        p_A += weight_A*len_observation\n",
    "        p_B += weight_B*len_observation\n",
    "    # M step\n",
    "    new_p_A=counts['A']['H']/p_A\n",
    "    new_p_B=counts['B']['H']/p_B\n",
    "    return [new_p_A,new_p_B]"
   ]
  },
  {
   "cell_type": "markdown",
   "metadata": {},
   "source": [
    "#### EM算法主循环：  \n",
    "给定循环的两个终止条件：模型参数变化小于阈值，循环达到最大次数"
   ]
  },
  {
   "cell_type": "code",
   "execution_count": 36,
   "metadata": {
    "collapsed": true
   },
   "outputs": [],
   "source": [
    "def em(observations,prior,tol=1e-6,iterations=10000):\n",
    "    '''\n",
    "    EM算法\n",
    "    : param observations: 观测数据\n",
    "    : param prior : 模型初值\n",
    "    : param tol :迭代结束阈值\n",
    "    : param iterations: 最大迭代次数\n",
    "    : return :局部最优的参数\n",
    "    '''\n",
    "    import math\n",
    "    iteration = 0\n",
    "    while iteration < iterations:\n",
    "        new_prior = em_single(prior, observations)\n",
    "        delta_change0 = np.abs(new_prior[0]-prior[0])\n",
    "        delta_change1 = np.abs(new_prior[1]-prior[1])\n",
    "        if delta_change0 < tol and delta_change1 < tol:\n",
    "            break\n",
    "        else:\n",
    "            prior = new_prior\n",
    "            iteration += 1\n",
    "    return [new_prior, iteration]"
   ]
  },
  {
   "cell_type": "code",
   "execution_count": 38,
   "metadata": {},
   "outputs": [
    {
     "name": "stdout",
     "output_type": "stream",
     "text": [
      "[[0.79678895444393916, 0.51958345063012845], 15]\n"
     ]
    }
   ],
   "source": [
    "print(em(observations,[0.6,0.5],tol=1e-6,iterations=10000))"
   ]
  },
  {
   "cell_type": "markdown",
   "metadata": {},
   "source": [
    "我们可以改变初值，观察初值对于EM算法的影响。"
   ]
  },
  {
   "cell_type": "code",
   "execution_count": 39,
   "metadata": {},
   "outputs": [
    {
     "name": "stdout",
     "output_type": "stream",
     "text": [
      "[[0.51958345063012845, 0.79678895444393916], 15]\n"
     ]
    }
   ],
   "source": [
    "print(em(observations,[0.5,0.6],tol=1e-6,iterations=10000))"
   ]
  },
  {
   "cell_type": "code",
   "execution_count": 40,
   "metadata": {},
   "outputs": [
    {
     "name": "stdout",
     "output_type": "stream",
     "text": [
      "[[0.66000000000000003, 0.66000000000000003], 1]\n"
     ]
    }
   ],
   "source": [
    "print(em(observations,[0.3,0.3],tol=1e-6,iterations=10000))"
   ]
  },
  {
   "cell_type": "code",
   "execution_count": 41,
   "metadata": {},
   "outputs": [
    {
     "name": "stdout",
     "output_type": "stream",
     "text": [
      "[[0.79678887787574126, 0.519582724346632], 14]\n"
     ]
    }
   ],
   "source": [
    "print(em(observations,[0.99,0.001],tol=1e-6,iterations=10000))"
   ]
  }
 ],
 "metadata": {
  "kernelspec": {
   "display_name": "Python 3",
   "language": "python",
   "name": "python3"
  },
  "language_info": {
   "codemirror_mode": {
    "name": "ipython",
    "version": 3
   },
   "file_extension": ".py",
   "mimetype": "text/x-python",
   "name": "python",
   "nbconvert_exporter": "python",
   "pygments_lexer": "ipython3",
   "version": "3.5.3"
  }
 },
 "nbformat": 4,
 "nbformat_minor": 2
}
