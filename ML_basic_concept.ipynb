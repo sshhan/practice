{
 "cells": [
  {
   "cell_type": "markdown",
   "metadata": {},
   "source": [
    "## 1.欠拟合与过拟合\n",
    "在拟合模型过程中，不可避免的会产生误差。而误差的来源通常有两种： \n",
    "  \n",
    "  \n",
    "(1)偏差(bias),因模型无法表示基本数据的复杂度而造成的偏差。  \n",
    "模型复杂度过低，不能很好的拟合数据，造成偏差，准确率降低，训练误差大，导致欠拟合。  \n",
    "简单来说，在训练数据和测试数据上表现都很差。在训练数据的期望输出与实际真实输出差距很大。  \n",
    "\n",
    "避免欠拟合：增加模型复杂度，如采用高阶模型(预测)或者引入更多特征(分类)   \n",
    "  \n",
    "  \n",
    "(2).方差(variance),因模型对训练它所用的有限数据过于敏感而造成的方差。  \n",
    "模型复杂度过高，训练误差小，测试误差大，方差过大，导致过拟合。    \n",
    "简单来说，在训练样本得到的输出和期望输出基本一致，但是测试样本输出和测试样本的期望输出之间相差却很大。  \n",
    "  \n",
    "  避免过拟合: 降低模型复杂度，如加上正则惩罚项，如L1,L2，增加训练数据等。"
   ]
  },
  {
   "cell_type": "code",
   "execution_count": null,
   "metadata": {
    "collapsed": true
   },
   "outputs": [],
   "source": []
  }
 ],
 "metadata": {
  "kernelspec": {
   "display_name": "Python 3",
   "language": "python",
   "name": "python3"
  },
  "language_info": {
   "codemirror_mode": {
    "name": "ipython",
    "version": 3
   },
   "file_extension": ".py",
   "mimetype": "text/x-python",
   "name": "python",
   "nbconvert_exporter": "python",
   "pygments_lexer": "ipython3",
   "version": "3.5.3"
  }
 },
 "nbformat": 4,
 "nbformat_minor": 2
}
