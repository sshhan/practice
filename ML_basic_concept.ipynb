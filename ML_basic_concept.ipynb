{
 "cells": [
  {
   "cell_type": "markdown",
   "metadata": {},
   "source": [
    "## 1.欠拟合与过拟合\n",
    "在拟合模型过程中，不可避免的会产生误差。而误差的来源通常有两种： \n",
    "  \n",
    "  \n",
    "(1)偏差(bias),因模型无法表示基本数据的复杂度而造成的偏差。  \n",
    "模型复杂度过低，不能很好的拟合数据，造成偏差，准确率降低，训练误差大，导致欠拟合。  \n",
    "简单来说，在训练数据和测试数据上表现都很差。在训练数据的期望输出与实际真实输出差距很大。  \n",
    "\n",
    "避免欠拟合：增加模型复杂度，如采用高阶模型(预测)或者引入更多特征(分类)   \n",
    "  \n",
    "  \n",
    "(2).方差(variance),因模型对训练它所用的有限数据过于敏感而造成的方差。  \n",
    "模型复杂度过高，训练误差小，测试误差大，方差过大，导致过拟合。    \n",
    "简单来说，在训练样本得到的输出和期望输出基本一致，但是测试样本输出和测试样本的期望输出之间相差却很大。  \n",
    "  \n",
    "  避免过拟合: 降低模型复杂度，如加上正则惩罚项，如L1,L2，增加训练数据等。"
   ]
  },
  {
   "cell_type": "markdown",
   "metadata": {
    "collapsed": true
   },
   "source": [
    "## 2. 学习曲线"
   ]
  },
  {
   "cell_type": "markdown",
   "metadata": {},
   "source": [
    "## 3. 方差分数"
   ]
  },
  {
   "cell_type": "markdown",
   "metadata": {
    "collapsed": true
   },
   "source": [
    "## 4.稀疏性"
   ]
  },
  {
   "cell_type": "markdown",
   "metadata": {
    "collapsed": true
   },
   "source": [
    "## 5.高方差\n",
    "为什么线性回归模型中存在多个相关变量时，系数确定性变差，并呈现高方差"
   ]
  },
  {
   "cell_type": "markdown",
   "metadata": {
    "collapsed": true
   },
   "source": [
    "## 6. Laplace平滑\n",
    "拉普拉斯平滑又称加1平滑，是比较常用的平滑方法，解决零概率问题。  \n",
    "所谓零概率问题，就是在计算新实例等概率时，如果某个分量在训练集中从没出现过，会导致整个实例等概率计算结果为0.针对文本分类问题就是当一个词语在训练集中没有出现过，那么该词语的概率为0，使用朴素贝叶斯法或者n-gram模型计算文本出现的概率时，连乘导致整个文本出现的概率也为0.这显然是不合理的，我们不能因为一个事件没有观测到而判断该事件发生的概率为0.  \n",
    "解决办法：分子加1，分母加空k，这里k代表类别数。\n",
    "\n",
    "## 7. 贝叶斯m-估计"
   ]
  },
  {
   "cell_type": "markdown",
   "metadata": {
    "collapsed": true
   },
   "source": [
    "## 8.共轭分布\n",
    "在贝叶斯统计中，如果后验分布和先验分布属于同类，则先验分布和后验分布被称为共轭分布，先验分布被称为似然函数的共轭先验。"
   ]
  },
  {
   "cell_type": "markdown",
   "metadata": {},
   "source": [
    "## 9.最大似然和最大后验,贝叶斯估计，最小二乘之间的关系"
   ]
  },
  {
   "cell_type": "code",
   "execution_count": null,
   "metadata": {
    "collapsed": true
   },
   "outputs": [],
   "source": []
  }
 ],
 "metadata": {
  "kernelspec": {
   "display_name": "Python 3",
   "language": "python",
   "name": "python3"
  },
  "language_info": {
   "codemirror_mode": {
    "name": "ipython",
    "version": 3
   },
   "file_extension": ".py",
   "mimetype": "text/x-python",
   "name": "python",
   "nbconvert_exporter": "python",
   "pygments_lexer": "ipython3",
   "version": "3.5.3"
  }
 },
 "nbformat": 4,
 "nbformat_minor": 2
}
