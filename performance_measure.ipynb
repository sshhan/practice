{
 "cells": [
  {
   "cell_type": "markdown",
   "metadata": {},
   "source": [
    "# 机器学习性能指标\n",
    "在分类问题中，机器学习性能评估指标有：  \n",
    "Accuracy, Precision, Recall, F1 Score, ROC Curve, PR Curve, AUC;  \n",
    "在回归问题中，使用MAE，MSE。"
   ]
  },
  {
   "cell_type": "markdown",
   "metadata": {},
   "source": [
    "## 1.分类\n",
    "混淆矩阵(Confusion matrix):刻画一个分类器的分类准确程度。  \n",
    "True Positive(真正, TP):将正类预测为正类数  \n",
    "True Negative(真负, TN):将负类预测为负类数  \n",
    "False Positive(假正, FP):将负类预测为正类数  \n",
    "False Negative(假负, FN):将正类预测为负类数  \n",
    "\n",
    "|Positive|Negative  \n",
    "-:|-:|-:  \n",
    " True|True Positive(TP)|True Negative(TN)  \n",
    " False|False Positive(FP)|False Negative(FN)  \n",
    " 上图的混淆矩阵显示了一个分类器可能会遭遇的所有情况。"
   ]
  },
  {
   "cell_type": "markdown",
   "metadata": {},
   "source": [
    "### 1.1 查全率、查准率和F1-score\n",
    "- 查准率-也就是精确率(precision)的定义为：    \n",
    " $$P=\\dfrac{TP}{TP+FP}$$  \n",
    "- 需要注意的是精确率(precision)和准确率(accuracy)是不一样的    \n",
    "\n",
    "$$ACC=\\dfrac{TP+TN}{TP+TN+FP+FN}$$  \n",
    "在正负样本不平衡的情况下，准确率这个评价有很大缺陷。  \n",
    "比如在互联网广告里面，点击的数量是很少的，一般只有千分之几，如果用\n",
    "acc,即使全部预测成负类(不点击) acc也有$99\\% $以上，没有意义。\n",
    "- 查全率-也就是召回率(recall, sensitivity, true positive rate)定义为：\n",
    " $$R=\\dfrac{TP}{TP+FN}$$  \n",
    "- $F_{\\beta}$-score是精确率和召回率的加权调和均值\n",
    "$$F_{\\beta}=(1+\\beta^2)\\dfrac{P\\times R}{\\beta^2P+R}$$  \n",
    "  \n",
    "  \n",
    "- $F_1$值，是精确率和召回率的调和均值，也就是$\\beta=1$的$F_{\\beta}$-score\n",
    "$$\\dfrac{2}{F_1}=\\dfrac{1}{P}+\\dfrac{1}{R}$$  \n",
    "$$F_1=\\dfrac{2TP}{2TP+FP+FN}$$  \n",
    "精确率和准确率都高的情况下，$F_1$值也会高，此时说明实验方法比较理想。\n",
    "### 1.2 通俗理解     \n",
    "  \n",
    "  \n",
    "- 精确率是针对我们预测结果而言的，它表示的是预测为正的样本中有多少是对的。那么预测为正就有两种可能了，一种就是把正类预测为正类(TP),一种就是把负类预测为正类(FP)。  \n",
    "- 而召回率是针对我们原来的样本而言的，它表示的是样本中的正例有多少被预测正确了。那也有两种可能，一种是把正类预测为正类(TP),一种是把正类预测为负类(FN)。\n",
    "- $F_1$度量的一般形式-$F_{\\beta}$能让我们表达出对查准率和查全率的不同偏好。当$\\beta>1$时查全率有更大影响，$\\beta<1$时查准率有更大影响。"
   ]
  },
  {
   "cell_type": "code",
   "execution_count": null,
   "metadata": {
    "collapsed": true
   },
   "outputs": [],
   "source": []
  }
 ],
 "metadata": {
  "kernelspec": {
   "display_name": "Python 3",
   "language": "python",
   "name": "python3"
  },
  "language_info": {
   "codemirror_mode": {
    "name": "ipython",
    "version": 3
   },
   "file_extension": ".py",
   "mimetype": "text/x-python",
   "name": "python",
   "nbconvert_exporter": "python",
   "pygments_lexer": "ipython3",
   "version": "3.5.3"
  }
 },
 "nbformat": 4,
 "nbformat_minor": 2
}
