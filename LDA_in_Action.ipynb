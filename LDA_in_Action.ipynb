{
 "cells": [
  {
   "cell_type": "markdown",
   "metadata": {
    "collapsed": true
   },
   "source": [
    "## LDA 编程\n",
    "**编程实现线性判别，并给出西瓜数据集3.0$\\alpha$上的结果。**"
   ]
  },
  {
   "cell_type": "code",
   "execution_count": 94,
   "metadata": {
    "collapsed": true
   },
   "outputs": [],
   "source": [
    "import numpy as np \n",
    "\n",
    "\n",
    "# 输入西瓜数据集\n",
    "watermelon= np.array([[0.697,0.460,'是'],[0.774,0.376,'是'],[0.634,0.264,'是'],\n",
    "           [0.608,0.318,'是'],[0.556,0.215,'是'],[0.403,0.237,'是'],\n",
    "           [0.481,0.149,'是'],[0.437,0.211,'是'],[0.666,0.091,'否'],\n",
    "           [0.243,0.267,'否'],[0.245,0.057,'否'],[0.343,0.099,'否'],\n",
    "           [0.639,0.161,'否'],[0.657,0.198,'否'],[0.360,0.370,'否'],\n",
    "           [0.593,0.042,'否'],[0.719,0.103,'否']])\n",
    "\n",
    "# 数据处理-提取特征和类别\n",
    "features = watermelon[:,0:2].astype('float')\n",
    "labels = watermelon[:,-1]"
   ]
  },
  {
   "cell_type": "markdown",
   "metadata": {},
   "source": [
    "### 用sklearn 实现LDA"
   ]
  },
  {
   "cell_type": "code",
   "execution_count": 19,
   "metadata": {},
   "outputs": [
    {
     "name": "stdout",
     "output_type": "stream",
     "text": [
      "0.666666666667\n",
      "[[3 2]\n",
      " [1 3]]\n",
      "             precision    recall  f1-score   support\n",
      "\n",
      "          否       0.75      0.60      0.67         5\n",
      "          是       0.60      0.75      0.67         4\n",
      "\n",
      "avg / total       0.68      0.67      0.67         9\n",
      "\n"
     ]
    }
   ],
   "source": [
    "from sklearn.lda import LDA\n",
    "from sklearn.model_selection import train_test_split\n",
    "from sklearn.metrics import accuracy_score\n",
    "from sklearn.metrics import confusion_matrix\n",
    "from sklearn.metrics import classification_report\n",
    "\n",
    "X_train, X_test, y_train, y_test = train_test_split(features,labels,test_size=0.5,random_state=0 )\n",
    "\n",
    "clf = LDA()\n",
    "clf.fit(X_train, y_train)\n",
    "pred_test = clf.predict(X_test)\n",
    "score = accuracy_score(y_test, pre_test)\n",
    "\n",
    "\n",
    "print(score)\n",
    "print(confusion_matrix(y_test, pred_test))\n",
    "print(classification_report(y_test, pred_test))"
   ]
  },
  {
   "cell_type": "markdown",
   "metadata": {},
   "source": [
    "### 手动编程实现LDA"
   ]
  },
  {
   "cell_type": "code",
   "execution_count": 236,
   "metadata": {},
   "outputs": [
    {
     "name": "stdout",
     "output_type": "stream",
     "text": [
      "accuracy is: 0.6666666666666666\n",
      "[[3 2]\n",
      " [1 3]]\n",
      "             precision    recall  f1-score   support\n",
      "\n",
      "          否       0.75      0.60      0.67         5\n",
      "          是       0.60      0.75      0.67         4\n",
      "\n",
      "avg / total       0.68      0.67      0.67         9\n",
      "\n"
     ]
    }
   ],
   "source": [
    "# 计算类均值\n",
    "def class_mean(features_raw, labels_raw):\n",
    "    mean_vectors = []\n",
    "    for i in np.unique(labels_raw):\n",
    "        mean_vectors.append(np.mean(features_raw[labels_raw==i],axis = 0))\n",
    "    return mean_vectors\n",
    "\n",
    "# 计算类内散度\n",
    "def within_scatter(features_raw, labels_raw):\n",
    "    m = features_raw.shape[1]\n",
    "    mean_vector = class_mean(features_raw, labels_raw)\n",
    "    S_w = np.zeros((m,m))\n",
    "    for i, mean in zip(np.unique(labels),mean_vector):\n",
    "        mean = np.mat(mean).T\n",
    "        feature = features_raw[labels_raw==i]\n",
    "        S_w +=np.dot(feature.T - np.tile(mean,len(feature)),feature - np.tile(mean,len(feature)).T)\n",
    "    return S_w\n",
    "\n",
    "\n",
    "def lda_2_class_project_mean(features_raw, labels_raw):\n",
    "    Sw = within_scatter(features_raw, labels_raw)\n",
    "    U, sigma, VT = np.linalg.svd(np.mat(Sw))\n",
    "    Sw_inv = VT.T*np.linalg.inv(np.diag(sigma))*U.T\n",
    "    mean_vector = class_mean(features_raw, labels_raw)\n",
    "    w = np.dot(Sw_inv,np.mat(mean[0]-mean[1]).T)\n",
    "    mean_new = np.zeros((2,1))\n",
    "    mean_new[0] = np.dot(w.T,np.mat(mean_vector[0]).T)\n",
    "    mean_new[1] = np.dot(w.T,np.mat(mean_vector[1]).T)\n",
    "\n",
    "    return w, mean_new\n",
    "\n",
    "def lda_test(features_raw, labels_raw,features_test, labels_test):\n",
    "    w, mean_new = lda_2_class_project_mean(features_raw, labels_raw)\n",
    "    correct = 0\n",
    "    labels_pred = []\n",
    "    for i in range(len(features_test)):\n",
    "        proj = np.dot(w.T,features_test[i])\n",
    "        if abs(proj - mean_new[0]) <= abs(proj - mean_new[1]):\n",
    "            pred = np.unique(labels_raw)[0]\n",
    "            labels_pred.append(np.unique(labels_raw)[0])  \n",
    "        else:\n",
    "            pred = np.unique(labels_raw)[1]\n",
    "            labels_pred.append(np.unique(labels_raw)[1])\n",
    "        if pred == labels_test[i]:\n",
    "            correct += 1\n",
    "    accuracy = correct /len(features_test)\n",
    "    return accuracy,labels_pred\n",
    "\n",
    "# 利用上面sklearn拆分的数据集进行计算\n",
    "acc, y_pred = lda_test(X_train, y_train,X_test, y_test)\n",
    "\n",
    "print ('accuracy is:',acc )\n",
    "print(confusion_matrix(y_test, y_pred))\n",
    "print(classification_report(y_test,y_pred))"
   ]
  }
 ],
 "metadata": {
  "kernelspec": {
   "display_name": "Python 3",
   "language": "python",
   "name": "python3"
  },
  "language_info": {
   "codemirror_mode": {
    "name": "ipython",
    "version": 3
   },
   "file_extension": ".py",
   "mimetype": "text/x-python",
   "name": "python",
   "nbconvert_exporter": "python",
   "pygments_lexer": "ipython3",
   "version": "3.5.3"
  }
 },
 "nbformat": 4,
 "nbformat_minor": 2
}
