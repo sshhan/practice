{
 "cells": [
  {
   "cell_type": "markdown",
   "metadata": {},
   "source": [
    "## 线性判别分析\n",
    "设$f_k(x)$是类G=k中x的类条件密度，而$\\pi_k$是类k的先验概率，并且\n",
    "$\\sum_{l=1}^k \\pi_k =1$。贝叶斯定理的简单应用给出：\n",
    "$$P(G=k|X=x)=\\dfrac{f_k(x)\\pi_k}{\\sum_{l=1}^k f_l(x) \\pi_l}$$  \n",
    "\n",
    "朴素贝叶斯模型是线形模型的变种，并假定每个类密度是边缘密度的乘积，\n",
    "即假定输入在每个类上条件独立。  \n",
    "假定我们用多元高斯对每个类密度建模：  \n",
    "\n",
    "$$f_k(x)=\\frac{1}{(2\\pi)^\\frac{p}{2}|\\sum_{k}|^{\\frac{1}{2}}}e^{-\\frac{1}{2}(x-\\mu_k)^T{\\sum_k}^{-1}(x-\\mu_k)}$$  \n",
    "\n",
    "线性判别分析(LDA)在一种特殊的情况中出现，即当我们假定类具有共同的协方差矩阵$\\Sigma_k=\\Sigma$,$\\forall k$时。比较两个类k和l，只需要考虑对数比率即可，并且有：  \n",
    "  \n",
    "  \n",
    "\\begin{equation*}\n",
    "\\begin{aligned}\n",
    "\\log\\dfrac{p(G=k|X=x)}{p(G=l|X=x)}&=log\\frac{f_k(x)}{f_l(x)}+log\\frac{\\pi_k}{\\pi_l}\\\\\n",
    "&=log\\frac{\\pi_k}{\\pi_l}-\\frac{1}{2}(\\mu_k+\\mu_l)^T\\Sigma^{-1}(\\mu_k-\\mu_l)+x^T\\Sigma^{-1}(\\mu_k-\\mu_l)\n",
    "\\end{aligned}\n",
    "\\end{equation*}  \n",
    "\n",
    "是x的线性方程。由上式可知：线性判别函数   \n",
    "\n",
    "$$\\delta_k(x)=x^T\\Sigma^{-1}\\mu_k-\\frac{1}{2}\\mu_k^T\\Sigma^{-1}\\mu_k+\\log \\pi_k$$  \n",
    "\n",
    "是判定规则的等价描述，其中$G(x)=arg\\max_k\\delta_k(x)$  \n",
    "在实践中，我们不知道高斯分布的参数，而需要用训练数据估计它们：  \n",
    "\n",
    "(1)$\\hat{\\pi}=N_k/N$,其中$N_k$是类k的观测数；  \n",
    "  \n",
    "(2)${\\hat{\\mu}}_k=\\sum_{g_i=k} x_i/N_k;$  \n",
    "  \n",
    "(3)$\\hat{\\Sigma}=\\sum_{k=1}^K\\sum_{g_i=k}(x_i-{\\hat{\\mu}}_k)(x_i-{\\hat{\\mu}}_k)^T/(N-k)$  "
   ]
  },
  {
   "cell_type": "code",
   "execution_count": null,
   "metadata": {
    "collapsed": true
   },
   "outputs": [],
   "source": []
  }
 ],
 "metadata": {
  "kernelspec": {
   "display_name": "Python 3",
   "language": "python",
   "name": "python3"
  },
  "language_info": {
   "codemirror_mode": {
    "name": "ipython",
    "version": 3
   },
   "file_extension": ".py",
   "mimetype": "text/x-python",
   "name": "python",
   "nbconvert_exporter": "python",
   "pygments_lexer": "ipython3",
   "version": "3.5.3"
  }
 },
 "nbformat": 4,
 "nbformat_minor": 2
}
